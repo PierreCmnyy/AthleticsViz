{
 "cells": [
  {
   "cell_type": "markdown",
   "id": "6e9c3591",
   "metadata": {},
   "source": [
    "# Visualisation des tirs d'Erling Haaland en Premier League 2022/23\n",
    "\n",
    "Ce Notebook reproduit une visualisation inspirée par The Athletic (NYT) et la vidéo de McKay Johns :  \n",
    "https://www.youtube.com/watch?v=v3uI44ZA_WU\n",
    "\n",
    "L'objectif est de représenter graphiquement tous les tirs d'Erling Haaland lors de la saison 2022/23, en mettant en avant la localisation, la qualité des occasions (xG), et les statistiques clés de sa saison."
   ]
  },
  {
   "cell_type": "code",
   "execution_count": null,
   "id": "aac4330f",
   "metadata": {},
   "outputs": [],
   "source": [
    "import pandas as pd\n",
    "import matplotlib.pyplot as plt\n",
    "from mplsoccer import VerticalPitch"
   ]
  },
  {
   "cell_type": "markdown",
   "id": "0e19b077",
   "metadata": {},
   "source": [
    "## 1. Chargement et préparation des données\n",
    "\n",
    "On charge les données de tirs d'Erling Haaland pour la saison 2022/23.  \n",
    "Les coordonnées sont ensuite converties pour être compatibles avec la librairie `mplsoccer`."
   ]
  },
  {
   "cell_type": "code",
   "execution_count": null,
   "id": "b81e10fc",
   "metadata": {},
   "outputs": [],
   "source": [
    "df = pd.read_csv('erling_haaland_2022_understat.csv')\n",
    "df.head()\n",
    "df['X'] = df['X'] * 100\n",
    "df['Y'] = df['Y'] * 100"
   ]
  },
  {
   "cell_type": "markdown",
   "id": "aa868762",
   "metadata": {},
   "source": [
    "## 2. Calcul des statistiques clés\n",
    "\n",
    "On calcule ici le nombre total de tirs, de buts, la somme des expected goals (xG), le xG moyen par tir, et la distance moyenne des tirs."
   ]
  },
  {
   "cell_type": "code",
   "execution_count": null,
   "id": "e1a860e9",
   "metadata": {},
   "outputs": [],
   "source": [
    "total_shots = df.shape[0]\n",
    "total_goals = df[df['result'] == 'Goal'].shape[0]\n",
    "total_xG = df['xG'].sum()\n",
    "xG_per_shot = total_xG / total_shots\n",
    "points_average_distance = df[\"X\"].mean()\n",
    "actual_average_distance = 120 - (df[\"X\"]*1.2).mean()\n",
    "print(f\"Distance moyenne des tirs : {actual_average_distance:.1f} yards\")"
   ]
  },
  {
   "cell_type": "markdown",
   "id": "7e57c246",
   "metadata": {},
   "source": [
    "## 3. Définition de la charte graphique\n",
    "\n",
    "On définit ici la couleur de fond et la police utilisée pour donner un aspect visuel proche de celui de The Athletic."
   ]
  },
  {
   "cell_type": "code",
   "execution_count": null,
   "id": "d12eb2d3",
   "metadata": {},
   "outputs": [],
   "source": [
    "background_color =\"#0C0D0E\"\n",
    "import matplotlib.font_manager as font_manager\n",
    "font_path = \"Arvo-Regular.ttf\"\n",
    "font_prop = font_manager.FontProperties(fname=font_path)"
   ]
  },
  {
   "cell_type": "markdown",
   "id": "5eab2f51",
   "metadata": {},
   "source": [
    "## 4. Visualisation\n",
    "\n",
    "La figure est composée de trois sections :\n",
    "- **Haut** : titre, description et légende\n",
    "- **Centre** : visualisation des tirs sur le terrain\n",
    "- **Bas** : statistiques clés de la saison"
   ]
  },
  {
   "cell_type": "code",
   "execution_count": null,
   "id": "4a86ea6d",
   "metadata": {},
   "outputs": [],
   "source": [
    "fig = plt.figure(figsize=(8,12))\n",
    "fig.patch.set_facecolor(background_color)\n",
    "\n",
    "# Section 1 : Titre, description et légende\n",
    "ax1 = fig.add_axes([0,.7,1,.2])\n",
    "ax1.set_facecolor(background_color)\n",
    "ax1.set_xlim(0,1)\n",
    "ax1.set_ylim(0,1)\n",
    "\n",
    "# Titre principal\n",
    "ax1.text(x=.5, y=.85, s = \"Erling Haaland\", fontsize=20, fontproperties=font_prop, fontweight='bold', color=\"white\", ha='center')\n",
    "\n",
    "\n",
    "# Sous-titre\n",
    "ax1.text(x=.5, y=.75, s = \"All shots in the Premier League 2022/23\", fontsize=14, fontproperties=font_prop, color=\"white\", ha='center')\n",
    "\n",
    "\n",
    "\n",
    "# Légende\n",
    "ax1.text(x=.25, y=.5, s = \"Low quality chance\", fontsize=12, fontproperties=font_prop, color=\"white\", ha='center')\n",
    "ax1.text(x=.75, y=.5, s = \"High quality chance\", fontsize=12, fontproperties=font_prop, color=\"white\", ha='center')\n",
    "\n",
    "# Représentation visuelle de la taille des points selon la qualité de l'occasion (xG)\n",
    "ax1.scatter(x= .37, y=.53, s=100, color = background_color, edgecolor = \"white\", linewidth=.8)\n",
    "ax1.scatter(x= .42, y=.53, s=200, color = background_color, edgecolor = \"white\", linewidth=.8)\n",
    "ax1.scatter(x= .48, y=.53, s=300, color = background_color, edgecolor = \"white\", linewidth=.8)\n",
    "ax1.scatter(x= .54, y=.53, s=400, color = background_color, edgecolor = \"white\", linewidth=.8)\n",
    "ax1.scatter(x= .6, y=.53, s=500, color = background_color, edgecolor = \"white\", linewidth=.8)\n",
    "\n",
    "# Légende pour la couleur des points (but ou non)\n",
    "ax1.text(x=0.45, y=0.27, s=f'Goal', fontsize=10, fontproperties=font_prop, color='white', ha='right')\n",
    "ax1.scatter(x=0.47, y=0.3, s=100, color='red', edgecolor='white', linewidth=.8, alpha=.7)\n",
    "ax1.scatter(x=0.53, y=0.3, s=100, color=background_color, edgecolor='white', linewidth=.8)\n",
    "ax1.text(x=0.55, y=0.27, s=f'No Goal', fontsize=10, fontproperties=font_prop, color='white', ha='left')\n",
    "\n",
    "\n",
    "\n",
    "\n",
    "\n",
    "\n",
    "# Section 2 : Visualisation des tirs sur le terrain\n",
    "ax2 = fig.add_axes([.05,.25,.9,.5])\n",
    "ax2.set_facecolor(background_color)\n",
    "\n",
    "\n",
    "# Création du terrain (moitié de terrain, style Opta)\n",
    "pitch = VerticalPitch(pitch_type = 'opta', half = True, pitch_color = background_color, pad_bottom = .5, line_color = 'white', linewidth = .75, axis=True, label = True)\n",
    "pitch.draw(ax=ax2)\n",
    "\n",
    "\n",
    "# Affichage de la distance moyenne des tirs\n",
    "ax2.scatter(x=90, y=points_average_distance, s=100, color = 'white', linewidth = .8)\n",
    "ax2.plot([90,90], [100, points_average_distance],color = 'white', linewidth = 2)\n",
    "ax2.text(x=90, y = points_average_distance - 4, s=f'Average distance:\\n {actual_average_distance : .1f} yards', fontsize=10, fontproperties=font_prop, color='white', ha='center')\n",
    "\n",
    "\n",
    "# Affichage de chaque tir : taille = xG, couleur = but ou non\n",
    "for x in df.to_dict(orient='records'):\n",
    "    pitch.scatter(x['X'], x['Y'], s=x['xG'] * 300, color = 'red' if x['result'] == 'Goal' else background_color, ax = ax2, alpha = .7, linewidth = .8, edgecolor = 'white')\n",
    "\n",
    "\n",
    "\n",
    "\n",
    "# Section 3 : Statistiques clés\n",
    "ax3 = fig.add_axes([0,.2,1,.05])\n",
    "ax3.set_facecolor(background_color)\n",
    "\n",
    "ax3.text(x=.25, y=.5, s='Shots', fontsize = 20, fontproperties=font_prop, fontweight='bold', color='white', ha='left')\n",
    "ax3.text(x=.25, y=0, s=f'{total_shots}', fontsize = 20, fontproperties=font_prop, fontweight='bold', color='red', ha='left')\n",
    "\n",
    "ax3.text(x=.38, y=.5, s='Goals', fontsize = 20, fontproperties=font_prop, fontweight='bold', color='white', ha='left')\n",
    "ax3.text(x=.38, y=0, s=f'{total_goals}', fontsize = 20, fontproperties=font_prop, fontweight='bold', color='red', ha='left')\n",
    "\n",
    "ax3.text(x=.53, y=.5, s='xG', fontsize = 20, fontproperties=font_prop, fontweight='bold', color='white', ha='left')\n",
    "ax3.text(x=.53, y=0, s=f'{total_xG: .2f}', fontsize = 20, fontproperties=font_prop, fontweight='bold', color='red', ha='left')\n",
    "\n",
    "ax3.text(x=.63, y=.5, s='xG / Shot', fontsize = 20, fontproperties=font_prop, fontweight='bold', color='white', ha='left')\n",
    "ax3.text(x=.63, y=0, s=f'{xG_per_shot : .2f}', fontsize = 20, fontproperties=font_prop, fontweight='bold', color='red', ha='left')"
   ]
  },
  {
   "cell_type": "code",
   "execution_count": null,
   "id": "08fc650d",
   "metadata": {},
   "outputs": [],
   "source": [
    "fig = plt.figure(figsize=(8,12))\n",
    "fig.patch.set_facecolor(background_color)\n",
    "\n",
    "# Section 1 : Titre, description et légende\n",
    "ax1 = fig.add_axes([0,.7,1,.2])\n",
    "ax1.set_facecolor(background_color)\n",
    "ax1.set_xlim(0,1)\n",
    "ax1.set_ylim(0,1)\n",
    "ax1.text(x=.5, y=.85, s = \"Erling Haaland\", fontsize=20, fontproperties=font_prop, fontweight='bold', color=\"white\", ha='center')\n",
    "ax1.text(x=.5, y=.75, s = \"All shots in the Premier League 2022/23\", fontsize=14, fontproperties=font_prop, color=\"white\", ha='center')\n",
    "ax1.text(x=.25, y=.5, s = \"Low quality chance\", fontsize=12, fontproperties=font_prop, color=\"white\", ha='center')\n",
    "ax1.text(x=.75, y=.5, s = \"High quality chance\", fontsize=12, fontproperties=font_prop, color=\"white\", ha='center')\n",
    "ax1.scatter(x= .37, y=.53, s=100, color = background_color, edgecolor = \"white\", linewidth=.8)\n",
    "ax1.scatter(x= .42, y=.53, s=200, color = background_color, edgecolor = \"white\", linewidth=.8)\n",
    "ax1.scatter(x= .48, y=.53, s=300, color = background_color, edgecolor = \"white\", linewidth=.8)\n",
    "ax1.scatter(x= .54, y=.53, s=400, color = background_color, edgecolor = \"white\", linewidth=.8)\n",
    "ax1.scatter(x= .6, y=.53, s=500, color = background_color, edgecolor = \"white\", linewidth=.8)\n",
    "ax1.text(x=0.45, y=0.27, s=f'Goal', fontsize=10, fontproperties=font_prop, color='white', ha='right')\n",
    "ax1.scatter(x=0.47, y=0.3, s=100, color='red', edgecolor='white', linewidth=.8, alpha=.7)\n",
    "ax1.scatter(x=0.53, y=0.3, s=100, color=background_color, edgecolor='white', linewidth=.8)\n",
    "ax1.text(x=0.55, y=0.27, s=f'No Goal', fontsize=10, fontproperties=font_prop, color='white', ha='left')\n",
    "\n",
    "# Section 2 : Visualisation des tirs sur le terrain\n",
    "ax2 = fig.add_axes([.05,.25,.9,.5])\n",
    "ax2.set_facecolor(background_color)\n",
    "pitch = VerticalPitch(pitch_type = 'opta', half = True, pitch_color = background_color, pad_bottom = .5, line_color = 'white', linewidth = .75, axis=True, label = True)\n",
    "pitch.draw(ax=ax2)\n",
    "ax2.scatter(x=90, y=points_average_distance, s=100, color = 'white', linewidth = .8)\n",
    "ax2.plot([90,90], [100, points_average_distance],color = 'white', linewidth = 2)\n",
    "ax2.text(x=90, y = points_average_distance - 4, s=f'Average distance:\\n {actual_average_distance : .1f} yards', fontsize=10, fontproperties=font_prop, color='white', ha='center')\n",
    "for x in df.to_dict(orient='records'):\n",
    "    pitch.scatter(x['X'], x['Y'], s=x['xG'] * 300, color = 'red' if x['result'] == 'Goal' else background_color, ax = ax2, alpha = .7, linewidth = .8, edgecolor = 'white')\n",
    "\n",
    "# Section 3 : Statistiques clés\n",
    "ax3 = fig.add_axes([0,.2,1,.05])\n",
    "ax3.set_facecolor(background_color)\n",
    "ax3.text(x=.25, y=.5, s='Shots', fontsize = 20, fontproperties=font_prop, fontweight='bold', color='white', ha='left')\n",
    "ax3.text(x=.25, y=0, s=f'{total_shots}', fontsize = 20, fontproperties=font_prop, fontweight='bold', color='red', ha='left')\n",
    "ax3.text(x=.38, y=.5, s='Goals', fontsize = 20, fontproperties=font_prop, fontweight='bold', color='white', ha='left')\n",
    "ax3.text(x=.38, y=0, s=f'{total_goals}', fontsize = 20, fontproperties=font_prop, fontweight='bold', color='red', ha='left')\n",
    "ax3.text(x=.53, y=.5, s='xG', fontsize = 20, fontproperties=font_prop, fontweight='bold', color='white', ha='left')\n",
    "ax3.text(x=.53, y=0, s=f'{total_xG: .2f}', fontsize = 20, fontproperties=font_prop, fontweight='bold', color='red', ha='left')\n",
    "ax3.text(x=.63, y=.5, s='xG / Shot', fontsize = 20, fontproperties=font_prop, fontweight='bold', color='white', ha='left')\n",
    "ax3.text(x=.63, y=0, s=f'{xG_per_shot : .2f}', fontsize = 20, fontproperties=font_prop, fontweight='bold', color='red', ha='left')"
   ]
  }
 ],
 "metadata": {
  "kernelspec": {
   "display_name": "athletics",
   "language": "python",
   "name": "python3"
  },
  "language_info": {
   "codemirror_mode": {
    "name": "ipython",
    "version": 3
   },
   "file_extension": ".py",
   "mimetype": "text/x-python",
   "name": "python",
   "nbconvert_exporter": "python",
   "pygments_lexer": "ipython3",
   "version": "3.11.13"
  }
 },
 "nbformat": 4,
 "nbformat_minor": 5
}
